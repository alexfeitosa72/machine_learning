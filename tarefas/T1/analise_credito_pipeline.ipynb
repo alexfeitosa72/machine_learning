{
 "cells": [
  {
   "cell_type": "markdown",
   "id": "eea1455f",
   "metadata": {},
   "source": [
    "# 📊 Análise Exploratória e Modelagem de Crédito com Scikit-Learn"
   ]
  },
  {
   "cell_type": "code",
   "execution_count": null,
   "id": "b6b4e69f",
   "metadata": {},
   "outputs": [],
   "source": [
    "import pandas as pd\n",
    "import numpy as np\n",
    "import matplotlib.pyplot as plt\n",
    "import seaborn as sns\n",
    "\n",
    "from sklearn.preprocessing import MinMaxScaler, OneHotEncoder\n",
    "from sklearn.compose import ColumnTransformer\n",
    "from sklearn.pipeline import Pipeline\n",
    "from sklearn.linear_model import LogisticRegression\n",
    "from sklearn.neighbors import KNeighborsClassifier\n",
    "from sklearn.ensemble import GradientBoostingClassifier\n",
    "from sklearn.metrics import classification_report, confusion_matrix, ConfusionMatrixDisplay, accuracy_score, precision_score, recall_score, f1_score\n"
   ]
  },
  {
   "cell_type": "markdown",
   "id": "4918d5d9",
   "metadata": {},
   "source": [
    "## 📥 Carregamento dos dados"
   ]
  },
  {
   "cell_type": "code",
   "execution_count": null,
   "id": "9e17911a",
   "metadata": {},
   "outputs": [],
   "source": [
    "df_train = pd.read_csv(\"data/credtrain.txt\", sep=\"\\t\", header=None)\n",
    "df_test = pd.read_csv(\"data/credtest.txt\", sep=\"\\t\", header=None)\n",
    "\n",
    "colunas = [\"ESCT\", \"NDEP\", \"RENDA\", \"TIPOR\", \"VBEM\", \"NPARC\", \"VPARC\",\n",
    "           \"TEL\", \"IDADE\", \"RESMS\", \"ENTRADA\", \"CLASSE\"]\n",
    "df_train.columns = colunas\n",
    "df_test.columns = colunas\n"
   ]
  },
  {
   "cell_type": "markdown",
   "id": "56270a5e",
   "metadata": {},
   "source": [
    "## 📊 Análise Exploratória Inicial"
   ]
  },
  {
   "cell_type": "code",
   "execution_count": null,
   "id": "c9306a6a",
   "metadata": {},
   "outputs": [],
   "source": [
    "print(df_train.info())\n",
    "print(df_train.describe())\n",
    "print(\"\\nDistribuição da variável CLASSE (%):\")\n",
    "print(df_train['CLASSE'].value_counts(normalize=True) * 100)\n"
   ]
  },
  {
   "cell_type": "code",
   "execution_count": null,
   "id": "a34d577c",
   "metadata": {},
   "outputs": [],
   "source": [
    "numericas = [\"RENDA\", \"VBEM\", \"NPARC\", \"VPARC\", \"IDADE\", \"RESMS\", \"ENTRADA\"]\n",
    "fig, axs = plt.subplots(nrows=4, ncols=2, figsize=(14, 12))\n",
    "axs = axs.flatten()\n",
    "for i, col in enumerate(numericas):\n",
    "    sns.histplot(df_train[col], bins=30, kde=True, ax=axs[i], color='steelblue')\n",
    "    axs[i].set_title(f\"Distribuição de {col}\")\n",
    "plt.tight_layout()\n",
    "plt.show()\n",
    "\n",
    "fig, axs = plt.subplots(nrows=2, ncols=2, figsize=(10, 8))\n",
    "categoricas = [\"ESCT\", \"NDEP\", \"TIPOR\", \"TEL\"]\n",
    "axs = axs.flatten()\n",
    "for i, col in enumerate(categoricas):\n",
    "    sns.countplot(x=df_train[col], ax=axs[i], palette=\"Set2\")\n",
    "    axs[i].set_title(f\"Frequência de {col}\")\n",
    "plt.tight_layout()\n",
    "plt.show()\n",
    "\n",
    "fig, axs = plt.subplots(nrows=4, ncols=2, figsize=(14, 14))\n",
    "axs = axs.flatten()\n",
    "for i, col in enumerate(numericas):\n",
    "    sns.boxplot(x=\"CLASSE\", y=col, data=df_train, ax=axs[i], palette=\"pastel\")\n",
    "    axs[i].set_title(f\"{col} por CLASSE\")\n",
    "plt.tight_layout()\n",
    "plt.show()\n"
   ]
  },
  {
   "cell_type": "markdown",
   "id": "bc9cd578",
   "metadata": {},
   "source": [
    "## ⚙️ Pré-processamento"
   ]
  },
  {
   "cell_type": "code",
   "execution_count": null,
   "id": "6d8190f8",
   "metadata": {},
   "outputs": [],
   "source": [
    "X_train = df_train.drop(\"CLASSE\", axis=1)\n",
    "y_train = df_train[\"CLASSE\"]\n",
    "X_test = df_test.drop(\"CLASSE\", axis=1)\n",
    "y_test = df_test[\"CLASSE\"]\n",
    "\n",
    "colunas_categoricas = [\"ESCT\", \"NDEP\", \"TIPOR\", \"TEL\"]\n",
    "colunas_numericas = [\"RENDA\", \"VBEM\", \"NPARC\", \"VPARC\", \"IDADE\", \"RESMS\", \"ENTRADA\"]\n",
    "\n",
    "preprocessador = ColumnTransformer(transformers=[\n",
    "    (\"num\", MinMaxScaler(), colunas_numericas),\n",
    "    (\"cat\", OneHotEncoder(drop=\"first\"), colunas_categoricas)\n",
    "])\n",
    "\n"
   ]
  },
  {
   "cell_type": "code",
   "execution_count": 7,
   "id": "ac810a41",
   "metadata": {},
   "outputs": [],
   "source": [
    "X_train_transformado = preprocessador.fit_transform(X_train)"
   ]
  },
  {
   "cell_type": "markdown",
   "id": "7f929bdb",
   "metadata": {},
   "source": [
    "## ⚙️ Modelagem com Pipeline"
   ]
  },
  {
   "cell_type": "code",
   "execution_count": null,
   "id": "e27918aa",
   "metadata": {},
   "outputs": [],
   "source": [
    "\n",
    "modelos = {\n",
    "    \"Regressão Logística\": LogisticRegression(solver=\"liblinear\"),\n",
    "    \"KNN (k=5)\": KNeighborsClassifier(n_neighbors=5),\n",
    "    \"Gradient Boosting\": GradientBoostingClassifier(random_state=42)\n",
    "}\n",
    "\n",
    "resultados = []\n",
    "for nome, modelo in modelos.items():\n",
    "    pipe = Pipeline(steps=[\n",
    "        (\"preprocessador\", preprocessador),\n",
    "        (\"classificador\", modelo)\n",
    "    ])\n",
    "    pipe.fit(X_train, y_train)\n",
    "    y_pred = pipe.predict(X_test)\n",
    "    resultados.append({\n",
    "        \"Modelo\": nome,\n",
    "        \"Acurácia\": accuracy_score(y_test, y_pred),\n",
    "        \"Precisão\": precision_score(y_test, y_pred),\n",
    "        \"Recall\": recall_score(y_test, y_pred),\n",
    "        \"F1-Score\": f1_score(y_test, y_pred)\n",
    "    })\n",
    "\n",
    "df_resultados = pd.DataFrame(resultados).sort_values(by=\"F1-Score\", ascending=False)\n",
    "print(df_resultados)"
   ]
  },
  {
   "cell_type": "markdown",
   "id": "e0456c95",
   "metadata": {},
   "source": [
    "## 📉 Matrizes de Confusão dos Modelos"
   ]
  },
  {
   "cell_type": "code",
   "execution_count": null,
   "id": "a01e7971",
   "metadata": {},
   "outputs": [],
   "source": [
    "for nome, modelo in modelos.items():\n",
    "    pipe = Pipeline(steps=[\n",
    "        (\"preprocessador\", preprocessador),\n",
    "        (\"classificador\", modelo)\n",
    "    ])\n",
    "    pipe.fit(X_train, y_train)\n",
    "    y_pred = pipe.predict(X_test)\n",
    "    cm = confusion_matrix(y_test, y_pred)\n",
    "    disp = ConfusionMatrixDisplay(confusion_matrix=cm, display_labels=[\"Inadimplente (0)\", \"Adimplente (1)\"])\n",
    "    disp.plot(cmap=\"Blues\")\n",
    "    plt.title(f\"Matriz de Confusão - {nome}\")\n",
    "    plt.grid(False)\n",
    "    plt.show()\n"
   ]
  }
 ],
 "metadata": {
  "kernelspec": {
   "display_name": "Python 3",
   "language": "python",
   "name": "python3"
  },
  "language_info": {
   "codemirror_mode": {
    "name": "ipython",
    "version": 3
   },
   "file_extension": ".py",
   "mimetype": "text/x-python",
   "name": "python",
   "nbconvert_exporter": "python",
   "pygments_lexer": "ipython3",
   "version": "3.13.1"
  }
 },
 "nbformat": 4,
 "nbformat_minor": 5
}
